{
 "cells": [
  {
   "cell_type": "code",
   "execution_count": 1,
   "metadata": {},
   "outputs": [],
   "source": [
    "# Assume that groups are given in another CSV"
   ]
  },
  {
   "cell_type": "code",
   "execution_count": 114,
   "metadata": {},
   "outputs": [],
   "source": [
    "# Necessary imports:\n",
    "import pandas as pd\n",
    "import matplotlib.pyplot as plt\n",
    "import numpy as np\n",
    "from string import ascii_uppercase\n",
    "from operator import itemgetter\n",
    "\n",
    "import os\n",
    "\n",
    "# Setting up current directory:\n",
    "CURRENT_DIRECTORY = os.getcwd()"
   ]
  },
  {
   "cell_type": "code",
   "execution_count": 115,
   "metadata": {},
   "outputs": [
    {
     "name": "stdout",
     "output_type": "stream",
     "text": [
      "Data file name: test_data1_cleaned.csv\n",
      "Groups file name: test_data1_groups.csv\n"
     ]
    }
   ],
   "source": [
    "# Get file name:\n",
    "DATA_FILE_NAME = input(\"Data file name: \")\n",
    "GROUPS_FILE_NAME = input(\"Groups file name: \")"
   ]
  },
  {
   "cell_type": "code",
   "execution_count": 151,
   "metadata": {},
   "outputs": [
    {
     "data": {
      "text/html": [
       "<div>\n",
       "<style scoped>\n",
       "    .dataframe tbody tr th:only-of-type {\n",
       "        vertical-align: middle;\n",
       "    }\n",
       "\n",
       "    .dataframe tbody tr th {\n",
       "        vertical-align: top;\n",
       "    }\n",
       "\n",
       "    .dataframe thead th {\n",
       "        text-align: right;\n",
       "    }\n",
       "</style>\n",
       "<table border=\"1\" class=\"dataframe\">\n",
       "  <thead>\n",
       "    <tr style=\"text-align: right;\">\n",
       "      <th></th>\n",
       "      <th>A</th>\n",
       "      <th>B</th>\n",
       "      <th>C</th>\n",
       "      <th>D</th>\n",
       "      <th>E</th>\n",
       "      <th>F</th>\n",
       "    </tr>\n",
       "  </thead>\n",
       "  <tbody>\n",
       "    <tr>\n",
       "      <th>1</th>\n",
       "      <td>32.722</td>\n",
       "      <td>32.691</td>\n",
       "      <td>33.248</td>\n",
       "      <td>16.326</td>\n",
       "      <td>16.385</td>\n",
       "      <td>16.371</td>\n",
       "    </tr>\n",
       "    <tr>\n",
       "      <th>2</th>\n",
       "      <td>32.438</td>\n",
       "      <td>32.087</td>\n",
       "      <td>32.322</td>\n",
       "      <td>16.031</td>\n",
       "      <td>16.014</td>\n",
       "      <td>15.955</td>\n",
       "    </tr>\n",
       "    <tr>\n",
       "      <th>3</th>\n",
       "      <td>25.137</td>\n",
       "      <td>25.013</td>\n",
       "      <td>26.612</td>\n",
       "      <td>15.939</td>\n",
       "      <td>15.938</td>\n",
       "      <td>15.773</td>\n",
       "    </tr>\n",
       "    <tr>\n",
       "      <th>4</th>\n",
       "      <td>34.154</td>\n",
       "      <td>34.905</td>\n",
       "      <td>34.263</td>\n",
       "      <td>16.089</td>\n",
       "      <td>16.052</td>\n",
       "      <td>16.039</td>\n",
       "    </tr>\n",
       "    <tr>\n",
       "      <th>5</th>\n",
       "      <td>34.697</td>\n",
       "      <td>33.673</td>\n",
       "      <td>34.500</td>\n",
       "      <td>16.459</td>\n",
       "      <td>16.399</td>\n",
       "      <td>16.382</td>\n",
       "    </tr>\n",
       "    <tr>\n",
       "      <th>6</th>\n",
       "      <td>24.483</td>\n",
       "      <td>21.267</td>\n",
       "      <td>22.705</td>\n",
       "      <td>18.001</td>\n",
       "      <td>17.578</td>\n",
       "      <td>17.555</td>\n",
       "    </tr>\n",
       "    <tr>\n",
       "      <th>7</th>\n",
       "      <td>37.161</td>\n",
       "      <td>36.110</td>\n",
       "      <td>35.944</td>\n",
       "      <td>21.077</td>\n",
       "      <td>20.685</td>\n",
       "      <td>20.656</td>\n",
       "    </tr>\n",
       "    <tr>\n",
       "      <th>8</th>\n",
       "      <td>35.350</td>\n",
       "      <td>35.494</td>\n",
       "      <td>34.860</td>\n",
       "      <td>20.850</td>\n",
       "      <td>20.212</td>\n",
       "      <td>20.293</td>\n",
       "    </tr>\n",
       "    <tr>\n",
       "      <th>9</th>\n",
       "      <td>28.604</td>\n",
       "      <td>27.658</td>\n",
       "      <td>30.411</td>\n",
       "      <td>19.827</td>\n",
       "      <td>19.569</td>\n",
       "      <td>19.446</td>\n",
       "    </tr>\n",
       "    <tr>\n",
       "      <th>10</th>\n",
       "      <td>39.721</td>\n",
       "      <td>38.519</td>\n",
       "      <td>39.543</td>\n",
       "      <td>20.585</td>\n",
       "      <td>20.100</td>\n",
       "      <td>21.126</td>\n",
       "    </tr>\n",
       "    <tr>\n",
       "      <th>11</th>\n",
       "      <td>39.332</td>\n",
       "      <td>37.239</td>\n",
       "      <td>37.315</td>\n",
       "      <td>21.049</td>\n",
       "      <td>20.744</td>\n",
       "      <td>21.549</td>\n",
       "    </tr>\n",
       "    <tr>\n",
       "      <th>12</th>\n",
       "      <td>23.645</td>\n",
       "      <td>24.386</td>\n",
       "      <td>24.237</td>\n",
       "      <td>26.593</td>\n",
       "      <td>24.358</td>\n",
       "      <td>24.180</td>\n",
       "    </tr>\n",
       "  </tbody>\n",
       "</table>\n",
       "</div>"
      ],
      "text/plain": [
       "         A       B       C       D       E       F\n",
       "1   32.722  32.691  33.248  16.326  16.385  16.371\n",
       "2   32.438  32.087  32.322  16.031  16.014  15.955\n",
       "3   25.137  25.013  26.612  15.939  15.938  15.773\n",
       "4   34.154  34.905  34.263  16.089  16.052  16.039\n",
       "5   34.697  33.673  34.500  16.459  16.399  16.382\n",
       "6   24.483  21.267  22.705  18.001  17.578  17.555\n",
       "7   37.161  36.110  35.944  21.077  20.685  20.656\n",
       "8   35.350  35.494  34.860  20.850  20.212  20.293\n",
       "9   28.604  27.658  30.411  19.827  19.569  19.446\n",
       "10  39.721  38.519  39.543  20.585  20.100  21.126\n",
       "11  39.332  37.239  37.315  21.049  20.744  21.549\n",
       "12  23.645  24.386  24.237  26.593  24.358  24.180"
      ]
     },
     "execution_count": 151,
     "metadata": {},
     "output_type": "execute_result"
    }
   ],
   "source": [
    "# Read data file:\n",
    "df = pd.read_csv(CURRENT_DIRECTORY + \"/\" + DATA_FILE_NAME, header=None)\n",
    "df = df.dropna()\n",
    "num_rows = len(df.index)\n",
    "num_cols = len(df.columns)\n",
    "df.index = range(1, num_rows+1)\n",
    "df.columns = itemgetter(*df.columns)(ascii_uppercase)\n",
    "\n",
    "df"
   ]
  },
  {
   "cell_type": "code",
   "execution_count": 152,
   "metadata": {},
   "outputs": [
    {
     "data": {
      "text/html": [
       "<div>\n",
       "<style scoped>\n",
       "    .dataframe tbody tr th:only-of-type {\n",
       "        vertical-align: middle;\n",
       "    }\n",
       "\n",
       "    .dataframe tbody tr th {\n",
       "        vertical-align: top;\n",
       "    }\n",
       "\n",
       "    .dataframe thead th {\n",
       "        text-align: right;\n",
       "    }\n",
       "</style>\n",
       "<table border=\"1\" class=\"dataframe\">\n",
       "  <thead>\n",
       "    <tr style=\"text-align: right;\">\n",
       "      <th></th>\n",
       "      <th>A</th>\n",
       "      <th>B</th>\n",
       "      <th>C</th>\n",
       "      <th>D</th>\n",
       "      <th>E</th>\n",
       "      <th>F</th>\n",
       "    </tr>\n",
       "  </thead>\n",
       "  <tbody>\n",
       "    <tr>\n",
       "      <th>1</th>\n",
       "      <td>MC38%%C%%GMC38</td>\n",
       "      <td>MC38%%C%%GMC38</td>\n",
       "      <td>MC38%%C%%GMC38</td>\n",
       "      <td>MC38%%H%%C%%GMC38</td>\n",
       "      <td>MC38%%H%%C%%GMC38</td>\n",
       "      <td>MC38%%H%%C%%GMC38</td>\n",
       "    </tr>\n",
       "    <tr>\n",
       "      <th>2</th>\n",
       "      <td>MC38V%%GMC38</td>\n",
       "      <td>MC38V%%GMC38</td>\n",
       "      <td>MC38V%%GMC38</td>\n",
       "      <td>MC38V%%H%%GMC38</td>\n",
       "      <td>MC38V%%H%%GMC38</td>\n",
       "      <td>MC38V%%H%%GMC38</td>\n",
       "    </tr>\n",
       "    <tr>\n",
       "      <th>3</th>\n",
       "      <td>MC38S%%GMC38</td>\n",
       "      <td>MC38S%%GMC38</td>\n",
       "      <td>MC38S%%GMC38</td>\n",
       "      <td>MC38S%%H%%GMC38</td>\n",
       "      <td>MC38S%%H%%GMC38</td>\n",
       "      <td>MC38S%%H%%GMC38</td>\n",
       "    </tr>\n",
       "    <tr>\n",
       "      <th>4</th>\n",
       "      <td>B16%%C%%GB16</td>\n",
       "      <td>B16%%C%%GB16</td>\n",
       "      <td>B16%%C%%GB16</td>\n",
       "      <td>B16%%H%%C%%GB16</td>\n",
       "      <td>B16%%H%%C%%GB16</td>\n",
       "      <td>B16%%H%%C%%GB16</td>\n",
       "    </tr>\n",
       "    <tr>\n",
       "      <th>5</th>\n",
       "      <td>B16V%%GB16</td>\n",
       "      <td>B16V%%GB16</td>\n",
       "      <td>B16V%%GB16</td>\n",
       "      <td>B16V%%H%%GB16</td>\n",
       "      <td>B16V%%H%%GB16</td>\n",
       "      <td>B16V%%H%%GB16</td>\n",
       "    </tr>\n",
       "    <tr>\n",
       "      <th>6</th>\n",
       "      <td>B16S%%GB16</td>\n",
       "      <td>B16S%%GB16</td>\n",
       "      <td>B16S%%GB16</td>\n",
       "      <td>B16S%%H%%GB16</td>\n",
       "      <td>B16S%%H%%GB16</td>\n",
       "      <td>B16S%%H%%GB16</td>\n",
       "    </tr>\n",
       "    <tr>\n",
       "      <th>7</th>\n",
       "      <td>2MC38%%C%%G2MC38</td>\n",
       "      <td>2MC38%%C%%G2MC38</td>\n",
       "      <td>2MC38%%C%%G2MC38</td>\n",
       "      <td>2MC38%%H%%C%%G2MC38</td>\n",
       "      <td>2MC38%%H%%C%%G2MC38</td>\n",
       "      <td>2MC38%%H%%C%%G2MC38</td>\n",
       "    </tr>\n",
       "    <tr>\n",
       "      <th>8</th>\n",
       "      <td>2MC38V%%G2MC38</td>\n",
       "      <td>2MC38V%%G2MC38</td>\n",
       "      <td>2MC38V%%G2MC38</td>\n",
       "      <td>2MC38V%%H%%G2MC38</td>\n",
       "      <td>2MC38V%%H%%G2MC38</td>\n",
       "      <td>2MC38V%%H%%G2MC38</td>\n",
       "    </tr>\n",
       "    <tr>\n",
       "      <th>9</th>\n",
       "      <td>2MC38S%%G2MC38</td>\n",
       "      <td>2MC38S%%G2MC38</td>\n",
       "      <td>2MC38S%%G2MC38</td>\n",
       "      <td>2MC38S%%H%%G2MC38</td>\n",
       "      <td>2MC38S%%H%%G2MC38</td>\n",
       "      <td>2MC38S%%H%%G2MC38</td>\n",
       "    </tr>\n",
       "    <tr>\n",
       "      <th>10</th>\n",
       "      <td>2B16%%C%%G2B16</td>\n",
       "      <td>2B16%%C%%G2B16</td>\n",
       "      <td>2B16%%C%%G2B16</td>\n",
       "      <td>2B16%%H%%C%%G2B16</td>\n",
       "      <td>2B16%%H%%C%%G2B16</td>\n",
       "      <td>2B16%%H%%C%%G2B16</td>\n",
       "    </tr>\n",
       "    <tr>\n",
       "      <th>11</th>\n",
       "      <td>2B16V%%G2B16</td>\n",
       "      <td>2B16V%%G2B16</td>\n",
       "      <td>2B16V%%G2B16</td>\n",
       "      <td>2B16V%%H%%G2B16</td>\n",
       "      <td>2B16V%%H%%G2B16</td>\n",
       "      <td>2B16V%%H%%G2B16</td>\n",
       "    </tr>\n",
       "    <tr>\n",
       "      <th>12</th>\n",
       "      <td>2B16S%%G2B16</td>\n",
       "      <td>2B16S%%G2B16</td>\n",
       "      <td>2B16S%%G2B16</td>\n",
       "      <td>2B16S%%H%%G2B16</td>\n",
       "      <td>2B16S%%H%%G2B16</td>\n",
       "      <td>2B16S%%H%%G2B16</td>\n",
       "    </tr>\n",
       "  </tbody>\n",
       "</table>\n",
       "</div>"
      ],
      "text/plain": [
       "                   A                 B                 C                    D  \\\n",
       "1     MC38%%C%%GMC38    MC38%%C%%GMC38    MC38%%C%%GMC38    MC38%%H%%C%%GMC38   \n",
       "2       MC38V%%GMC38      MC38V%%GMC38      MC38V%%GMC38      MC38V%%H%%GMC38   \n",
       "3       MC38S%%GMC38      MC38S%%GMC38      MC38S%%GMC38      MC38S%%H%%GMC38   \n",
       "4       B16%%C%%GB16      B16%%C%%GB16      B16%%C%%GB16      B16%%H%%C%%GB16   \n",
       "5         B16V%%GB16        B16V%%GB16        B16V%%GB16        B16V%%H%%GB16   \n",
       "6         B16S%%GB16        B16S%%GB16        B16S%%GB16        B16S%%H%%GB16   \n",
       "7   2MC38%%C%%G2MC38  2MC38%%C%%G2MC38  2MC38%%C%%G2MC38  2MC38%%H%%C%%G2MC38   \n",
       "8     2MC38V%%G2MC38    2MC38V%%G2MC38    2MC38V%%G2MC38    2MC38V%%H%%G2MC38   \n",
       "9     2MC38S%%G2MC38    2MC38S%%G2MC38    2MC38S%%G2MC38    2MC38S%%H%%G2MC38   \n",
       "10    2B16%%C%%G2B16    2B16%%C%%G2B16    2B16%%C%%G2B16    2B16%%H%%C%%G2B16   \n",
       "11      2B16V%%G2B16      2B16V%%G2B16      2B16V%%G2B16      2B16V%%H%%G2B16   \n",
       "12      2B16S%%G2B16      2B16S%%G2B16      2B16S%%G2B16      2B16S%%H%%G2B16   \n",
       "\n",
       "                      E                    F  \n",
       "1     MC38%%H%%C%%GMC38    MC38%%H%%C%%GMC38  \n",
       "2       MC38V%%H%%GMC38      MC38V%%H%%GMC38  \n",
       "3       MC38S%%H%%GMC38      MC38S%%H%%GMC38  \n",
       "4       B16%%H%%C%%GB16      B16%%H%%C%%GB16  \n",
       "5         B16V%%H%%GB16        B16V%%H%%GB16  \n",
       "6         B16S%%H%%GB16        B16S%%H%%GB16  \n",
       "7   2MC38%%H%%C%%G2MC38  2MC38%%H%%C%%G2MC38  \n",
       "8     2MC38V%%H%%G2MC38    2MC38V%%H%%G2MC38  \n",
       "9     2MC38S%%H%%G2MC38    2MC38S%%H%%G2MC38  \n",
       "10    2B16%%H%%C%%G2B16    2B16%%H%%C%%G2B16  \n",
       "11      2B16V%%H%%G2B16      2B16V%%H%%G2B16  \n",
       "12      2B16S%%H%%G2B16      2B16S%%H%%G2B16  "
      ]
     },
     "execution_count": 152,
     "metadata": {},
     "output_type": "execute_result"
    }
   ],
   "source": [
    "# Read groups file: \n",
    "df2 = pd.read_csv(CURRENT_DIRECTORY + \"/\" + GROUPS_FILE_NAME, header=None)\n",
    "df2 = df2.dropna()\n",
    "num_rows = len(df2.index)\n",
    "num_cols = len(df2.columns)\n",
    "df2.index = range(1, num_rows+1)\n",
    "df2.columns = itemgetter(*df2.columns)(ascii_uppercase)\n",
    "\n",
    "df2"
   ]
  },
  {
   "cell_type": "code",
   "execution_count": 153,
   "metadata": {},
   "outputs": [
    {
     "name": "stdout",
     "output_type": "stream",
     "text": [
      "24\n"
     ]
    },
    {
     "data": {
      "text/plain": [
       "{'MC38%%C%%GMC38': [32.722, 32.691, 33.248000000000005],\n",
       " 'MC38%%H%%C%%GMC38': [16.326, 16.385, 16.371],\n",
       " 'MC38V%%GMC38': [32.438, 32.086999999999996, 32.321999999999996],\n",
       " 'MC38V%%H%%GMC38': [16.031, 16.014, 15.955],\n",
       " 'MC38S%%GMC38': [25.136999999999997, 25.013, 26.612],\n",
       " 'MC38S%%H%%GMC38': [15.939, 15.937999999999999, 15.773],\n",
       " 'B16%%C%%GB16': [34.154, 34.905, 34.263000000000005],\n",
       " 'B16%%H%%C%%GB16': [16.089000000000002, 16.052, 16.039],\n",
       " 'B16V%%GB16': [34.696999999999996, 33.673, 34.5],\n",
       " 'B16V%%H%%GB16': [16.459, 16.399, 16.382],\n",
       " 'B16S%%GB16': [24.483, 21.267, 22.705],\n",
       " 'B16S%%H%%GB16': [18.000999999999998, 17.578, 17.555],\n",
       " '2MC38%%C%%G2MC38': [37.161, 36.11, 35.944],\n",
       " '2MC38%%H%%C%%G2MC38': [21.076999999999998, 20.685, 20.656],\n",
       " '2MC38V%%G2MC38': [35.35, 35.494, 34.86],\n",
       " '2MC38V%%H%%G2MC38': [20.85, 20.212, 20.293],\n",
       " '2MC38S%%G2MC38': [28.604, 27.658, 30.410999999999998],\n",
       " '2MC38S%%H%%G2MC38': [19.827, 19.569000000000003, 19.445999999999998],\n",
       " '2B16%%C%%G2B16': [39.721, 38.519, 39.543],\n",
       " '2B16%%H%%C%%G2B16': [20.585, 20.1, 21.125999999999998],\n",
       " '2B16V%%G2B16': [39.332, 37.239000000000004, 37.315],\n",
       " '2B16V%%H%%G2B16': [21.049, 20.744, 21.549],\n",
       " '2B16S%%G2B16': [23.645, 24.386, 24.237],\n",
       " '2B16S%%H%%G2B16': [26.593000000000004, 24.358, 24.18]}"
      ]
     },
     "execution_count": 153,
     "metadata": {},
     "output_type": "execute_result"
    }
   ],
   "source": [
    "# Create dictionary of groups data\n",
    "groups_dict = {}\n",
    "\n",
    "for row in df.index:\n",
    "    for col in df.columns:\n",
    "        current_group = df2[col][row]\n",
    "        current_value = df[col][row]\n",
    "        if current_group not in groups_dict.keys():\n",
    "            groups_dict[current_group] = [current_value]\n",
    "        else:\n",
    "            groups_dict[current_group].append(current_value)\n",
    "\n",
    "print(len(groups_dict))\n",
    "groups_dict"
   ]
  },
  {
   "cell_type": "markdown",
   "metadata": {},
   "source": [
    "# Relative quantification by 2^(Delta Delta CT) \n",
    "1. Compute average values of each group\n",
    "2. Use dictionary of dictionaries\n",
    "2. Calculate Delta CT by subtracting gene of interest and housekeeping gene averages within same group\n",
    "3. Calculate Delta Delta CT by subtracting Delta CT of experiment and controls\n",
    "4. Calculate RQ = 2^(Delta Delta CT)"
   ]
  },
  {
   "cell_type": "code",
   "execution_count": 154,
   "metadata": {},
   "outputs": [],
   "source": [
    "# Preprocessing\n",
    "groups_dict_new = {}\n",
    "group_controls = {}\n",
    "\n",
    "for key in groups_dict.keys():\n",
    "    group_index = key.find(\"%%G\")\n",
    "    group = key[group_index+3:]\n",
    "    if \"%%H\" in key:\n",
    "        housekeeping = key.replace(\"%%H\", \"\")\n",
    "        if housekeeping not in groups_dict_new.keys():\n",
    "            groups_dict_new[housekeeping] = {\n",
    "                'housekeeping': key\n",
    "            }\n",
    "        else:\n",
    "            groups_dict_new[housekeeping]['housekeeping'] = key\n",
    "        if key not in groups_dict_new.keys():\n",
    "            groups_dict_new[key] = {\n",
    "                'housekeeping': None\n",
    "            }\n",
    "        else:\n",
    "            groups_dict_new[housekeeping]['housekeeping'] = None\n",
    "    if \"%%C\" in key:\n",
    "        if key not in groups_dict_new.keys():\n",
    "            groups_dict_new[key] = {\n",
    "                'is_control': True,\n",
    "            }\n",
    "        else:\n",
    "            groups_dict_new[key]['is_control'] = True\n",
    "        if group not in group_controls: \n",
    "            group_controls[group] = key[:key.find(\"%%\")]\n",
    "    else: \n",
    "        if key not in groups_dict_new.keys():\n",
    "            groups_dict_new[key] = {\n",
    "                'is_control': None,\n",
    "            }\n",
    "        else:\n",
    "            groups_dict_new[key]['is_control'] = None\n",
    "    if \"%%G\" in key:\n",
    "        if key not in groups_dict_new.keys():\n",
    "            groups_dict_new[key] = {\n",
    "                'group': group\n",
    "            }\n",
    "        else:\n",
    "            groups_dict_new[key]['group'] = group\n",
    "    else:\n",
    "        if key not in groups_dict_new.keys():\n",
    "            groups_dict_new[key] = {\n",
    "                'group': None,\n",
    "            }\n",
    "        else:\n",
    "            groups_dict_new[key]['group'] = None\n",
    "        "
   ]
  },
  {
   "cell_type": "code",
   "execution_count": 155,
   "metadata": {},
   "outputs": [],
   "source": [
    "# Calculate means\n",
    "for key, value in groups_dict.items():\n",
    "    groups_dict_new[key]['mean'] = np.mean(value)"
   ]
  },
  {
   "cell_type": "code",
   "execution_count": 156,
   "metadata": {},
   "outputs": [],
   "source": [
    "# Calculate Delta CT\n",
    "for key in groups_dict_new.keys():\n",
    "    housekeeping = groups_dict_new[key]['housekeeping']\n",
    "    if housekeeping:\n",
    "        groups_dict_new[key]['dCT'] = groups_dict_new[key]['mean'] - groups_dict_new[housekeeping]['mean']\n",
    "    else:\n",
    "        groups_dict_new[key]['dCT'] = None"
   ]
  },
  {
   "cell_type": "code",
   "execution_count": 157,
   "metadata": {},
   "outputs": [],
   "source": [
    "# Calculate Delta Delta CT and RQ\n",
    "for key in groups_dict_new.keys():\n",
    "    group = groups_dict_new[key]['group']\n",
    "    control = group_controls[group]\n",
    "    if groups_dict_new[key]['dCT']:\n",
    "        groups_dict_new[key]['ddCT'] = groups_dict_new[key]['dCT'] - groups_dict_new[control+\"%%C%%G\"+group]['dCT']\n",
    "        groups_dict_new[key]['RQ'] = 2 ** -groups_dict_new[key]['ddCT']\n",
    "    elif groups_dict_new[key]['is_control'] and groups_dict_new[key]['housekeeping']:\n",
    "        groups_dict_new[key]['ddCT'] = 0\n",
    "        groups_dict_new[key]['RQ'] = 1\n",
    "    else:\n",
    "        groups_dict_new[key]['ddCT'] = None\n",
    "        groups_dict_new[key]['RQ'] = None"
   ]
  },
  {
   "cell_type": "code",
   "execution_count": 158,
   "metadata": {},
   "outputs": [
    {
     "data": {
      "image/png": "[encoded data removed]",
      "text/plain": [
       "<Figure size 432x288 with 1 Axes>"
      ]
     },
     "metadata": {
      "needs_background": "light"
     },
     "output_type": "display_data"
    }
   ],
   "source": [
    "# Convert to DataFrame and plot\n",
    "data = pd.DataFrame(groups_dict_new).drop(['is_control', 'mean', 'housekeeping']).transpose()\n",
    "data = data[~data.index.str.contains(\"%%H\")]\n",
    "\n",
    "data.plot.bar(y='RQ', logy=True)\n",
    "plt.title(\"Results\")\n",
    "plt.ylabel('RQ')\n",
    "\n",
    "plt.show()"
   ]
  },
  {
   "cell_type": "code",
   "execution_count": 159,
   "metadata": {},
   "outputs": [
    {
     "data": {
      "image/png": "[encoded data removed]",
      "text/plain": [
       "<Figure size 432x288 with 1 Axes>"
      ]
     },
     "metadata": {
      "needs_background": "light"
     },
     "output_type": "display_data"
    },
    {
     "data": {
      "image/png": "[encoded data removed]",
      "text/plain": [
       "<Figure size 432x288 with 1 Axes>"
      ]
     },
     "metadata": {
      "needs_background": "light"
     },
     "output_type": "display_data"
    },
    {
     "data": {
      "image/png": "[encoded data removed]",
      "text/plain": [
       "<Figure size 432x288 with 1 Axes>"
      ]
     },
     "metadata": {
      "needs_background": "light"
     },
     "output_type": "display_data"
    },
    {
     "data": {
      "image/png": "[encoded data removed]",
      "text/plain": [
       "<Figure size 432x288 with 1 Axes>"
      ]
     },
     "metadata": {
      "needs_background": "light"
     },
     "output_type": "display_data"
    }
   ],
   "source": [
    "data2 = data.copy()\n",
    "\n",
    "data2.rename(index=lambda s: s[:s.find(\"%%\")], inplace=True)\n",
    "groups = set()\n",
    "for group in data2['group']:\n",
    "    groups.add(group)\n",
    "    \n",
    "for group in groups:\n",
    "    data2.loc[data2['group'] == group].plot.bar(y='RQ', logy=True)\n",
    "    plt.title(group)\n",
    "    plt.ylabel('RQ')\n",
    "    plt.show()"
   ]
  },
  {
   "cell_type": "code",
   "execution_count": null,
   "metadata": {},
   "outputs": [],
   "source": []
  },
  {
   "cell_type": "code",
   "execution_count": null,
   "metadata": {},
   "outputs": [],
   "source": []
  }
 ],
 "metadata": {
  "kernelspec": {
   "display_name": "Python 3",
   "language": "python",
   "name": "python3"
  },
  "language_info": {
   "codemirror_mode": {
    "name": "ipython",
    "version": 3
   },
   "file_extension": ".py",
   "mimetype": "text/x-python",
   "name": "python",
   "nbconvert_exporter": "python",
   "pygments_lexer": "ipython3",
   "version": "3.7.3"
  }
 },
 "nbformat": 4,
 "nbformat_minor": 2
}
